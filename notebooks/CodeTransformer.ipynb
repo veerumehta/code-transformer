{
  "nbformat": 4,
  "nbformat_minor": 0,
  "metadata": {
    "colab": {
      "provenance": [],
      "include_colab_link": true
    },
    "kernelspec": {
      "name": "python3",
      "display_name": "Python 3"
    },
    "language_info": {
      "name": "python"
    }
  },
  "cells": [
    {
      "cell_type": "markdown",
      "metadata": {
        "id": "view-in-github",
        "colab_type": "text"
      },
      "source": [
        "<a href=\"https://colab.research.google.com/github/veerumehta/code-transformer/blob/main/notebooks/CodeTransformer.ipynb\" target=\"_parent\"><img src=\"https://colab.research.google.com/assets/colab-badge.svg\" alt=\"Open In Colab\"/></a>"
      ]
    },
    {
      "cell_type": "markdown",
      "source": [
        "# Try things out first\n",
        "\n",
        "## Try Hello of course"
      ],
      "metadata": {
        "id": "4QtVg9ekw58-"
      }
    },
    {
      "cell_type": "code",
      "execution_count": 6,
      "metadata": {
        "id": "Jl7Jg4dDuxVN",
        "outputId": "9dc26a89-b37b-4561-c3e8-a9f85250e9ee",
        "colab": {
          "base_uri": "https://localhost:8080/"
        }
      },
      "outputs": [
        {
          "output_type": "stream",
          "name": "stdout",
          "text": [
            "Hello Vee!\n"
          ]
        }
      ],
      "source": [
        "def say_hello(recipient):\n",
        "  print('Hello ' + recipient + '!')\n",
        "\n",
        "say_hello('Vee')`                                                                                     `"
      ]
    },
    {
      "cell_type": "markdown",
      "source": [
        "# The Plan\n",
        "\n",
        "## code2seq\n",
        "\n",
        "\n",
        "## Try CodeSearchNet\n",
        "\n",
        "\n",
        "## Try CodeTransformer steps"
      ],
      "metadata": {
        "id": "-Hl7NrJow07N"
      }
    }
  ]
}